{
 "cells": [
  {
   "cell_type": "markdown",
   "metadata": {},
   "source": [
    "## Интеллектуальный анализ данных – весна 2021\n",
    "## Домашнее задание 4: kNN. Линейные модели. Работа с признаками"
   ]
  },
  {
   "cell_type": "markdown",
   "metadata": {},
   "source": [
    "Правила:\n",
    "\n",
    "* Домашнее задание оценивается в 10 баллов.\n",
    "\n",
    "* Можно использовать без доказательства любые результаты, встречавшиеся на лекциях или семинарах по курсу, если получение этих результатов не является вопросом задания.\n",
    "\n",
    "* Можно использовать любые свободные источники с *обязательным* указанием ссылки на них.\n",
    "\n",
    "* Плагиат не допускается. При обнаружении случаев списывания, 0 за работу выставляется всем участникам нарушения, даже если можно установить, кто у кого списал.\n",
    "\n",
    "* Старайтесь сделать код как можно более оптимальным. В частности, будет штрафоваться использование циклов в тех случаях, когда операцию можно совершить при помощи инструментов библиотек, о которых рассказывалось в курсе.  "
   ]
  },
  {
   "cell_type": "markdown",
   "metadata": {},
   "source": [
    "### Задание 1:  Визуализация решающих поверхностей в kNN."
   ]
  },
  {
   "cell_type": "markdown",
   "metadata": {},
   "source": [
    "В этом задании мы изобразим решающую поверхность для классификатора kNN, чтобы наглядно увидеть, как классификатор принимает решения для новых объектов. Для простоты будем работать со встроенным в `sklearn` набором данных `wine`, содержащим информацию о характеристиках трёх видов вина. Описание набора можно найти [здесь](https://scikit-learn.org/stable/modules/generated/sklearn.datasets.load_wine.html#sklearn.datasets.load_wine) и [здесь](https://rdrr.io/cran/rattle.data/man/wine.html). "
   ]
  },
  {
   "cell_type": "markdown",
   "metadata": {},
   "source": [
    "Загрузим набор данных и сохраним информацию о признаках в переменную `X`, а о зависимой переменной – в переменную `y`."
   ]
  },
  {
   "cell_type": "code",
   "execution_count": 2,
   "metadata": {},
   "outputs": [],
   "source": [
    "import numpy as np\n",
    "import pandas as pd\n",
    "import matplotlib.pyplot as plt"
   ]
  },
  {
   "cell_type": "code",
   "execution_count": 2,
   "metadata": {},
   "outputs": [
    {
     "data": {
      "text/html": [
       "<div>\n",
       "<style scoped>\n",
       "    .dataframe tbody tr th:only-of-type {\n",
       "        vertical-align: middle;\n",
       "    }\n",
       "\n",
       "    .dataframe tbody tr th {\n",
       "        vertical-align: top;\n",
       "    }\n",
       "\n",
       "    .dataframe thead th {\n",
       "        text-align: right;\n",
       "    }\n",
       "</style>\n",
       "<table border=\"1\" class=\"dataframe\">\n",
       "  <thead>\n",
       "    <tr style=\"text-align: right;\">\n",
       "      <th></th>\n",
       "      <th>alcohol</th>\n",
       "      <th>malic_acid</th>\n",
       "      <th>ash</th>\n",
       "      <th>alcalinity_of_ash</th>\n",
       "      <th>magnesium</th>\n",
       "      <th>total_phenols</th>\n",
       "      <th>flavanoids</th>\n",
       "      <th>nonflavanoid_phenols</th>\n",
       "      <th>proanthocyanins</th>\n",
       "      <th>color_intensity</th>\n",
       "      <th>hue</th>\n",
       "      <th>od280/od315_of_diluted_wines</th>\n",
       "      <th>proline</th>\n",
       "    </tr>\n",
       "  </thead>\n",
       "  <tbody>\n",
       "    <tr>\n",
       "      <th>0</th>\n",
       "      <td>14.23</td>\n",
       "      <td>1.71</td>\n",
       "      <td>2.43</td>\n",
       "      <td>15.6</td>\n",
       "      <td>127.0</td>\n",
       "      <td>2.80</td>\n",
       "      <td>3.06</td>\n",
       "      <td>0.28</td>\n",
       "      <td>2.29</td>\n",
       "      <td>5.64</td>\n",
       "      <td>1.04</td>\n",
       "      <td>3.92</td>\n",
       "      <td>1065.0</td>\n",
       "    </tr>\n",
       "    <tr>\n",
       "      <th>1</th>\n",
       "      <td>13.20</td>\n",
       "      <td>1.78</td>\n",
       "      <td>2.14</td>\n",
       "      <td>11.2</td>\n",
       "      <td>100.0</td>\n",
       "      <td>2.65</td>\n",
       "      <td>2.76</td>\n",
       "      <td>0.26</td>\n",
       "      <td>1.28</td>\n",
       "      <td>4.38</td>\n",
       "      <td>1.05</td>\n",
       "      <td>3.40</td>\n",
       "      <td>1050.0</td>\n",
       "    </tr>\n",
       "    <tr>\n",
       "      <th>2</th>\n",
       "      <td>13.16</td>\n",
       "      <td>2.36</td>\n",
       "      <td>2.67</td>\n",
       "      <td>18.6</td>\n",
       "      <td>101.0</td>\n",
       "      <td>2.80</td>\n",
       "      <td>3.24</td>\n",
       "      <td>0.30</td>\n",
       "      <td>2.81</td>\n",
       "      <td>5.68</td>\n",
       "      <td>1.03</td>\n",
       "      <td>3.17</td>\n",
       "      <td>1185.0</td>\n",
       "    </tr>\n",
       "    <tr>\n",
       "      <th>3</th>\n",
       "      <td>14.37</td>\n",
       "      <td>1.95</td>\n",
       "      <td>2.50</td>\n",
       "      <td>16.8</td>\n",
       "      <td>113.0</td>\n",
       "      <td>3.85</td>\n",
       "      <td>3.49</td>\n",
       "      <td>0.24</td>\n",
       "      <td>2.18</td>\n",
       "      <td>7.80</td>\n",
       "      <td>0.86</td>\n",
       "      <td>3.45</td>\n",
       "      <td>1480.0</td>\n",
       "    </tr>\n",
       "    <tr>\n",
       "      <th>4</th>\n",
       "      <td>13.24</td>\n",
       "      <td>2.59</td>\n",
       "      <td>2.87</td>\n",
       "      <td>21.0</td>\n",
       "      <td>118.0</td>\n",
       "      <td>2.80</td>\n",
       "      <td>2.69</td>\n",
       "      <td>0.39</td>\n",
       "      <td>1.82</td>\n",
       "      <td>4.32</td>\n",
       "      <td>1.04</td>\n",
       "      <td>2.93</td>\n",
       "      <td>735.0</td>\n",
       "    </tr>\n",
       "    <tr>\n",
       "      <th>5</th>\n",
       "      <td>14.20</td>\n",
       "      <td>1.76</td>\n",
       "      <td>2.45</td>\n",
       "      <td>15.2</td>\n",
       "      <td>112.0</td>\n",
       "      <td>3.27</td>\n",
       "      <td>3.39</td>\n",
       "      <td>0.34</td>\n",
       "      <td>1.97</td>\n",
       "      <td>6.75</td>\n",
       "      <td>1.05</td>\n",
       "      <td>2.85</td>\n",
       "      <td>1450.0</td>\n",
       "    </tr>\n",
       "    <tr>\n",
       "      <th>6</th>\n",
       "      <td>14.39</td>\n",
       "      <td>1.87</td>\n",
       "      <td>2.45</td>\n",
       "      <td>14.6</td>\n",
       "      <td>96.0</td>\n",
       "      <td>2.50</td>\n",
       "      <td>2.52</td>\n",
       "      <td>0.30</td>\n",
       "      <td>1.98</td>\n",
       "      <td>5.25</td>\n",
       "      <td>1.02</td>\n",
       "      <td>3.58</td>\n",
       "      <td>1290.0</td>\n",
       "    </tr>\n",
       "    <tr>\n",
       "      <th>7</th>\n",
       "      <td>14.06</td>\n",
       "      <td>2.15</td>\n",
       "      <td>2.61</td>\n",
       "      <td>17.6</td>\n",
       "      <td>121.0</td>\n",
       "      <td>2.60</td>\n",
       "      <td>2.51</td>\n",
       "      <td>0.31</td>\n",
       "      <td>1.25</td>\n",
       "      <td>5.05</td>\n",
       "      <td>1.06</td>\n",
       "      <td>3.58</td>\n",
       "      <td>1295.0</td>\n",
       "    </tr>\n",
       "  </tbody>\n",
       "</table>\n",
       "</div>"
      ],
      "text/plain": [
       "   alcohol  malic_acid   ash  alcalinity_of_ash  magnesium  total_phenols  \\\n",
       "0    14.23        1.71  2.43               15.6      127.0           2.80   \n",
       "1    13.20        1.78  2.14               11.2      100.0           2.65   \n",
       "2    13.16        2.36  2.67               18.6      101.0           2.80   \n",
       "3    14.37        1.95  2.50               16.8      113.0           3.85   \n",
       "4    13.24        2.59  2.87               21.0      118.0           2.80   \n",
       "5    14.20        1.76  2.45               15.2      112.0           3.27   \n",
       "6    14.39        1.87  2.45               14.6       96.0           2.50   \n",
       "7    14.06        2.15  2.61               17.6      121.0           2.60   \n",
       "\n",
       "   flavanoids  nonflavanoid_phenols  proanthocyanins  color_intensity   hue  \\\n",
       "0        3.06                  0.28             2.29             5.64  1.04   \n",
       "1        2.76                  0.26             1.28             4.38  1.05   \n",
       "2        3.24                  0.30             2.81             5.68  1.03   \n",
       "3        3.49                  0.24             2.18             7.80  0.86   \n",
       "4        2.69                  0.39             1.82             4.32  1.04   \n",
       "5        3.39                  0.34             1.97             6.75  1.05   \n",
       "6        2.52                  0.30             1.98             5.25  1.02   \n",
       "7        2.51                  0.31             1.25             5.05  1.06   \n",
       "\n",
       "   od280/od315_of_diluted_wines  proline  \n",
       "0                          3.92   1065.0  \n",
       "1                          3.40   1050.0  \n",
       "2                          3.17   1185.0  \n",
       "3                          3.45   1480.0  \n",
       "4                          2.93    735.0  \n",
       "5                          2.85   1450.0  \n",
       "6                          3.58   1290.0  \n",
       "7                          3.58   1295.0  "
      ]
     },
     "execution_count": 2,
     "metadata": {},
     "output_type": "execute_result"
    }
   ],
   "source": [
    "from sklearn.datasets import load_wine\n",
    "\n",
    "data = load_wine()\n",
    "X = pd.DataFrame(data['data'], columns = data['feature_names'])\n",
    "y = data['target']\n",
    "X.head(8)"
   ]
  },
  {
   "cell_type": "markdown",
   "metadata": {},
   "source": [
    "**Задача 1.1 (0.5 балла)** Есть ли в наборе данных пропущенные значения? Если да, то удалите их. Есть ли в наборе данных категориальные переменные? Если да, то закодируйте их при помощи OneHot-кодирования."
   ]
  },
  {
   "cell_type": "code",
   "execution_count": 3,
   "metadata": {},
   "outputs": [
    {
     "name": "stdout",
     "output_type": "stream",
     "text": [
      "alcohol                         0.0\n",
      "malic_acid                      0.0\n",
      "ash                             0.0\n",
      "alcalinity_of_ash               0.0\n",
      "magnesium                       0.0\n",
      "total_phenols                   0.0\n",
      "flavanoids                      0.0\n",
      "nonflavanoid_phenols            0.0\n",
      "proanthocyanins                 0.0\n",
      "color_intensity                 0.0\n",
      "hue                             0.0\n",
      "od280/od315_of_diluted_wines    0.0\n",
      "proline                         0.0\n",
      "dtype: float64 Пропущенных значений, как видим, нет\n"
     ]
    }
   ],
   "source": [
    "print(X.isnull().mean(), \"Пропущенных значений, как видим, нет\")"
   ]
  },
  {
   "cell_type": "markdown",
   "metadata": {},
   "source": [
    "**Задача 1.2 (0.5 балла)** Используя функцию `train_test_split()`, разделите выборку на тренировочную и тестовую, и долю тестовой выборки задайте равной 0.3. Так как разбиение осуществляется случайным образом, не забудьте зафиксировать `np.random.seed()` для воспроизводимости результатов."
   ]
  },
  {
   "cell_type": "code",
   "execution_count": 4,
   "metadata": {},
   "outputs": [
    {
     "data": {
      "text/plain": [
       "((124, 13), (54, 13), (124,), (54,))"
      ]
     },
     "execution_count": 4,
     "metadata": {},
     "output_type": "execute_result"
    }
   ],
   "source": [
    "from sklearn.model_selection import train_test_split\n",
    "np.random.seed(12345)\n",
    "X_train, X_test, y_train, y_test = train_test_split(X, y, test_size=0.3) \n",
    "X_train.shape, X_test.shape, y_train.shape, y_test.shape"
   ]
  },
  {
   "cell_type": "markdown",
   "metadata": {},
   "source": [
    "**Задача 1.3 (1 балл)** На тренировочной выборке обучите шесть классификаторов kNN, отличающихся только числом соседей. Для первого классификатора число соседей поставьте равным 1, для второго - 3, для третьего – 5, для четвертого – 10, для пятого – 15 и для шестого – 25 (обратите внимание на параметр `n_neighbours` класса `KNeighborsClassifier`). Для обучения используйте только два признака: `alcohol` и `magnesium` – и евклидово расстояние. Не забудьте масштабировать признаки, например, при помощи модуля `StandardScaler`.\n",
    "\n",
    "Выведите долю правильных ответов на тренировочной и тестовой выборках для каждого классификатора."
   ]
  },
  {
   "cell_type": "code",
   "execution_count": 5,
   "metadata": {},
   "outputs": [
    {
     "name": "stdout",
     "output_type": "stream",
     "text": [
      "(124, 13) (124,)\n",
      "NN: Train; Test\n",
      "1:  1.00;  0.65\n",
      "3:  0.82;  0.69\n",
      "5:  0.81;  0.74\n",
      "10:  0.76;  0.70\n",
      "15:  0.74;  0.70\n",
      "25:  0.74;  0.70\n"
     ]
    }
   ],
   "source": [
    "from sklearn import preprocessing\n",
    "from sklearn.preprocessing import StandardScaler\n",
    "from sklearn.neighbors import KNeighborsClassifier\n",
    "\n",
    "\n",
    "Xtrain=np.vstack((X_train['alcohol'],X_train['magnesium'])).T\n",
    "Xtest=np.vstack((X_test['alcohol'],X_test['magnesium'])).T\n",
    "\n",
    "normalizer = preprocessing.StandardScaler()\n",
    "\n",
    "X_real_norm_np = normalizer.fit_transform(Xtrain)\n",
    "Xtrain = pd.DataFrame(data=X_real_norm_np)\n",
    "\n",
    "X_real_norm_np = normalizer.fit_transform(Xtest)\n",
    "Xtest = pd.DataFrame(data=X_real_norm_np)\n",
    "\n",
    "range1 = [1, 3, 5, 10, 15, 25]\n",
    "print(X_train.shape, y_train.shape)\n",
    "print('NN: Train; Test')\n",
    "for k in range1:\n",
    "    y1_predicted = KNeighborsClassifier(n_neighbors=k, metric='euclidean').fit(Xtrain, y_train).predict(Xtrain)\n",
    "    y2_predicted = KNeighborsClassifier(n_neighbors=k, metric='euclidean').fit(Xtrain, y_train).predict(Xtest)\n",
    "    print(f\"{k}:  {np.mean(y1_predicted==y_train):.2f};  {np.mean(y2_predicted==y_test):.2f}\")\n"
   ]
  },
  {
   "cell_type": "markdown",
   "metadata": {},
   "source": [
    "**Задача 1.4 (0 баллов)** Установите библиотеку `mlxtend` командой ниже. Библиотеку также можно установить из терминала при помощи `pip` или `conda`, как указано [здесь](http://rasbt.github.io/mlxtend/installation/). "
   ]
  },
  {
   "cell_type": "code",
   "execution_count": 6,
   "metadata": {},
   "outputs": [
    {
     "name": "stdout",
     "output_type": "stream",
     "text": [
      "Requirement already satisfied: mlxtend in c:\\users\\dasha\\anaconda\\lib\\site-packages (0.18.0)\n",
      "Requirement already satisfied: joblib>=0.13.2 in c:\\users\\dasha\\anaconda\\lib\\site-packages (from mlxtend) (0.17.0)\n",
      "Requirement already satisfied: scipy>=1.2.1 in c:\\users\\dasha\\anaconda\\lib\\site-packages (from mlxtend) (1.5.2)\n",
      "Requirement already satisfied: pandas>=0.24.2 in c:\\users\\dasha\\anaconda\\lib\\site-packages (from mlxtend) (1.1.3)\n",
      "Requirement already satisfied: setuptools in c:\\users\\dasha\\anaconda\\lib\\site-packages (from mlxtend) (50.3.1.post20201107)\n",
      "Requirement already satisfied: numpy>=1.16.2 in c:\\users\\dasha\\anaconda\\lib\\site-packages (from mlxtend) (1.19.2)\n",
      "Requirement already satisfied: scikit-learn>=0.20.3 in c:\\users\\dasha\\anaconda\\lib\\site-packages (from mlxtend) (0.23.2)\n",
      "Requirement already satisfied: matplotlib>=3.0.0 in c:\\users\\dasha\\anaconda\\lib\\site-packages (from mlxtend) (3.3.2)\n",
      "Requirement already satisfied: pytz>=2017.2 in c:\\users\\dasha\\anaconda\\lib\\site-packages (from pandas>=0.24.2->mlxtend) (2020.1)\n",
      "Requirement already satisfied: python-dateutil>=2.7.3 in c:\\users\\dasha\\anaconda\\lib\\site-packages (from pandas>=0.24.2->mlxtend) (2.8.1)\n",
      "Requirement already satisfied: threadpoolctl>=2.0.0 in c:\\users\\dasha\\anaconda\\lib\\site-packages (from scikit-learn>=0.20.3->mlxtend) (2.1.0)\n",
      "Requirement already satisfied: pyparsing!=2.0.4,!=2.1.2,!=2.1.6,>=2.0.3 in c:\\users\\dasha\\anaconda\\lib\\site-packages (from matplotlib>=3.0.0->mlxtend) (2.4.7)\n",
      "Requirement already satisfied: kiwisolver>=1.0.1 in c:\\users\\dasha\\anaconda\\lib\\site-packages (from matplotlib>=3.0.0->mlxtend) (1.3.0)\n",
      "Requirement already satisfied: pillow>=6.2.0 in c:\\users\\dasha\\anaconda\\lib\\site-packages (from matplotlib>=3.0.0->mlxtend) (8.0.1)\n",
      "Requirement already satisfied: certifi>=2020.06.20 in c:\\users\\dasha\\anaconda\\lib\\site-packages (from matplotlib>=3.0.0->mlxtend) (2020.6.20)\n",
      "Requirement already satisfied: cycler>=0.10 in c:\\users\\dasha\\anaconda\\lib\\site-packages (from matplotlib>=3.0.0->mlxtend) (0.10.0)\n",
      "Requirement already satisfied: six>=1.5 in c:\\users\\dasha\\anaconda\\lib\\site-packages (from python-dateutil>=2.7.3->pandas>=0.24.2->mlxtend) (1.15.0)\n"
     ]
    }
   ],
   "source": [
    "!pip install mlxtend"
   ]
  },
  {
   "cell_type": "markdown",
   "metadata": {},
   "source": [
    "Если всё прошло успешно, то в выводе команды выше вы увидите сообщение вроде \"successfully installed\", а следующая ячейка выполнится без ошибок."
   ]
  },
  {
   "cell_type": "code",
   "execution_count": 7,
   "metadata": {},
   "outputs": [],
   "source": [
    "import mlxtend"
   ]
  },
  {
   "cell_type": "markdown",
   "metadata": {},
   "source": [
    "**Задача 1.5 (1 балл)** Библиотека `mlxtend` позволяет достаточно просто визуализировать решающие поверхности обученных классификаторов. Изучите [документацию](http://rasbt.github.io/mlxtend/user_guide/plotting/plot_decision_regions/) библиотеки и найдите, как можно построить несколько графиков решающих поверхностей на сетке (decision regions grid). Постройте такую сетку графиков для обученных выше классификаторов.\n",
    "\n",
    "**Подсказки:**\n",
    "1. Вы можете использовать готовый код, приведённый в документации, и адаптировать его для нашего случая.\n",
    "2. Вам могут понадобиться дополнительные библиотеки, которые используются в примере из документации.\n",
    "3. Обратите внимание на то, как нужно изменить параметры `gridspec.GridSpec()` и `itertools.product()` для нашего числа классификаторов. \n",
    "4. В функции `plot_decision_region()` используйте `y_train` и нужные столбцы из `X_train`. Возможно, их придётся перевести в формат массива `numpy`.\n",
    "5. Если в задаче 1.3 вы сохраните обученные классификаторы в список, то не будет необходимости обучать их заново. \n",
    "6. Построение графика может занять некоторое время – придётся немного подождать!"
   ]
  },
  {
   "cell_type": "code",
   "execution_count": 8,
   "metadata": {},
   "outputs": [
    {
     "data": {
      "image/png": "[encoded data removed]",
      "text/plain": [
       "<Figure size 1440x864 with 6 Axes>"
      ]
     },
     "metadata": {
      "needs_background": "light"
     },
     "output_type": "display_data"
    }
   ],
   "source": [
    "from mlxtend.plotting import plot_decision_regions\n",
    "from sklearn import datasets\n",
    "from sklearn.svm import SVC\n",
    "import matplotlib.gridspec as gridspec\n",
    "import itertools\n",
    "import pylab\n",
    "\n",
    "clf1 = KNeighborsClassifier(n_neighbors=1, metric='euclidean').fit(Xtrain, y_train)#.predict(X_test)\n",
    "clf2 = KNeighborsClassifier(n_neighbors=3, metric='euclidean').fit(Xtrain, y_train)\n",
    "clf3 = KNeighborsClassifier(n_neighbors=5, metric='euclidean').fit(Xtrain, y_train)\n",
    "clf4 = KNeighborsClassifier(n_neighbors=10, metric='euclidean').fit(Xtrain, y_train)\n",
    "clf5 = KNeighborsClassifier(n_neighbors=15, metric='euclidean').fit(X_train, y_train)\n",
    "clf6 = KNeighborsClassifier(n_neighbors=25, metric='euclidean').fit(X_train, y_train)\n",
    "\n",
    "fig = plt.figure(figsize=(20,12))\n",
    "gs = gridspec.GridSpec(2,3, figure=fig)\n",
    "a=0\n",
    "b=1\n",
    "labels = ['n_neighbors=1', 'n_neighbors=3', 'n_neighbors=5', 'n_neighbors=10', 'n_neighbors=15', 'n_neighbors=25']\n",
    "for clf, lbl, grd in zip([clf1, clf2, clf3, clf4, clf5, clf6],\n",
    "                         labels,\n",
    "                         itertools.product([a,b], [0, 1, 2])):\n",
    "    clf.fit(Xtrain, y_train)      \n",
    "    ax = plt.subplot(gs[grd[a], grd[b]])\n",
    "    fig = plot_decision_regions(X=Xtrain.to_numpy(), y=y_train, clf=clf, legend=3)\n",
    "\n",
    "plt.show()\n"
   ]
  },
  {
   "cell_type": "markdown",
   "metadata": {},
   "source": [
    "**Задача 1.6 (0.5 балла)** Прокомментируйте результаты, полученные в задачах 1.3 и 1.5. Какое число соседей оптимально использовать для обучения классификатора? Поясните ваш выбор при помощи описания геометрии данных и получаемой решающей поверхности."
   ]
  },
  {
   "cell_type": "code",
   "execution_count": 42,
   "metadata": {},
   "outputs": [
    {
     "name": "stdout",
     "output_type": "stream",
     "text": [
      "При малых k решающая поверхность получается слишком сложной, поскольку шумы оказывают чересчур большое воздействие.Однако при росте k график сглаживается и при k=15 поверхность оказывается наиболее разумной. При больших k (k=25) зеленый класс захватывает пространвстово оранжевого и синего классов. Потому оптимальным будет число соседей, равное 15.\n"
     ]
    }
   ],
   "source": [
    "print(\"При малых k решающая поверхность получается слишком сложной, поскольку шумы оказывают чересчур большое воздействие.\"\n",
    "      \"Однако при росте k график сглаживается и при k=15 поверхность оказывается наиболее разумной. При больших k (k=25) \"\n",
    "      \"зеленый класс захватывает пространвстово оранжевого и синего классов. Потому оптимальным будет число соседей, равное 15.\")"
   ]
  },
  {
   "cell_type": "markdown",
   "metadata": {},
   "source": [
    "### Задание 2: Обученная машина."
   ]
  },
  {
   "cell_type": "markdown",
   "metadata": {},
   "source": [
    "В этом задании мы рассмотрим упрощённую идею того, как метод ближайших соседей можно применить при моделировании движения робота. \n",
    "\n",
    "Рассмотрим робота на дискретной двумерной плоскости, который за каждый момент дискретного времени может передвинуться на одну позицию вправо, влево, вверх или вниз. На плоскости разбросаны метки одного из четырёх классов, анализируя которые робот может (но не обязан) корректировать своё перемещение. Пусть метки класса 0 соответствуют сигналу переместиться вправо, метки класса 1 – влево, класса 2 – вверх, класса 3 – вниз. \n",
    "\n",
    "Передвижение робота осуществляется по следующему правилу: с вероятностью 0.2 робот передвинется вправо, и с вероятностью 0.8 – оценит, метки какого класса преобладают среди `k` его ближайших соседей, и передвинется в направлении этого доминирующего класса. \n",
    "\n",
    "Для лучшего понимания происходящего изобразим возможное положение робота и меток:"
   ]
  },
  {
   "cell_type": "code",
   "execution_count": 545,
   "metadata": {},
   "outputs": [
    {
     "data": {
      "text/plain": [
       "(20, 2)"
      ]
     },
     "execution_count": 545,
     "metadata": {},
     "output_type": "execute_result"
    },
    {
     "data": {
      "image/png": "[encoded data removed]",
      "text/plain": [
       "<Figure size 720x504 with 1 Axes>"
      ]
     },
     "metadata": {
      "needs_background": "light"
     },
     "output_type": "display_data"
    }
   ],
   "source": [
    "np.random.seed(12345)\n",
    "x = np.arange(20)\n",
    "landmarks = x + np.round(np.random.normal(2, 8, 20)) # сгенерируем случайные метки\n",
    "random_classes = np.random.randint(0, 4, 20)\n",
    "\n",
    "fig, ax = plt.subplots(figsize = (10, 7))\n",
    "scatter = ax.scatter(x, landmarks, c = random_classes)\n",
    "ax.scatter(4, 7, c = 'r', marker = 'o', label = 'robot position')\n",
    "legend1 = ax.legend(*scatter.legend_elements(),\n",
    "                    loc = \"lower left\", title = \"Classes\")\n",
    "ax.add_artist(legend1)\n",
    "\n",
    "plt.plot()\n",
    "_ = plt.legend()\n",
    "_ = plt.grid()\n",
    "\n",
    "X = np.vstack((x,landmarks)).T\n",
    "X.shape"
   ]
  },
  {
   "cell_type": "markdown",
   "metadata": {},
   "source": [
    "На следующем шаге робот передвинется на 1 либо вправо, либо в направлении, которое указывают ближайшие соседи."
   ]
  },
  {
   "cell_type": "markdown",
   "metadata": {},
   "source": [
    "**Задача 2.1 (1.5 балла)** Реализуйте класс, который задаёт описанное поведение робота, используя шаблон ниже:\n",
    "1. Определите атрибуты `trajectory` (переменная для хранения истории перемещения робота в виде последовательности точек с двумя координатами) и `knn` (обученный kNN классификатор, который по позиции метки предсказывает её класс).\n",
    "2. Определите метод `move()`: рассчитайте новое положение робота по правилам выше и добавьте её в историю перемещений. Подсказка: исходы можно интерпретировать как результаты подбрасывания монетки с вероятностью орла, равной 0.2. Для моделирования такого подбрасывания можно использовать, например, `np.random.binomial()` с правильными параметрами. "
   ]
  },
  {
   "cell_type": "code",
   "execution_count": 514,
   "metadata": {},
   "outputs": [],
   "source": [
    "from sklearn.neighbors import KNeighborsClassifier\n",
    "robot.initial_position.shape, robot.mapping[0].shape, \n",
    "robot.initial_position.ndim, robot.trajectory.ndim\n",
    "for n in range(50):\n",
    "    robot.move()"
   ]
  },
  {
   "cell_type": "code",
   "execution_count": 550,
   "metadata": {},
   "outputs": [],
   "source": [
    "#X = concatenate((x,landmarks))\n",
    "class MobileRobot():\n",
    "    def __init__(self, k:int, initial_position:list, landmarks:list, classes:list):\n",
    "        self.k = k\n",
    "        self.initial_position = np.array(initial_position).reshape(1, -1)\n",
    "        self.landmarks = np.array(landmarks)\n",
    "        self.classes = np.array(classes)\n",
    "        \n",
    "        self.trajectory = np.array(initial_position).reshape(1, -1)\n",
    "        self.knn = KNeighborsClassifier(n_neighbors=k).fit(landmarks, classes)\n",
    "      \n",
    "        self.mapping = {0: np.array([1, 0]), #перемещения робота в соответствие с тем, какого класса он окажется\n",
    "                        1: np.array([-1, 0]),\n",
    "                        2: np.array([0, 1]),\n",
    "                        3: np.array([0, -1])}    \n",
    "    def move(self):\n",
    "        choice = np.random.binomial(1, 0.2,1) #0 с вероятность 0.8, 1 - с 0.2\n",
    "        if choice == 0:\n",
    "            movement_class = self.knn.predict(self.initial_position) # this is class of the object\n",
    "            movement = self.mapping[movement_class[0]]\n",
    "            #print('1)movement_class =', movement_class, 'initial_pos:', self.initial_position[0,1])\n",
    "        else:                                  #choice = 1, движение вправо\n",
    "            movement = self.mapping[0]\n",
    "        #print(\"2)choice =\", choice, 'movement:', movement,'trajectory:', self.trajectory)\n",
    "        \n",
    "        self.initial_position[0,0] = self.initial_position[0,0]+movement[0] #не работает\n",
    "        self.initial_position[0,1] = self.initial_position[0,1]+movement[1]\n",
    "        #print('initial_pos(0):', self.initial_position[0])\n",
    "        self.trajectory = np.vstack((self.trajectory, self.initial_position[0]))\n",
    "        #print(self.trajectory)\n"
   ]
  },
  {
   "cell_type": "markdown",
   "metadata": {},
   "source": [
    "**Задача 2.2 (0.5 балла)** Дополните функцию `conduct_experiment`: определите переменную `traj` так, чтобы она содержала историю перемещения робота в виде двумерного массива numpy, в котором столбцы соответствуют координатам x и y соответствующей позиции."
   ]
  },
  {
   "cell_type": "code",
   "execution_count": 551,
   "metadata": {},
   "outputs": [
    {
     "data": {
      "text/plain": [
       "(377, array([377,  45]), (3, 2))"
      ]
     },
     "execution_count": 551,
     "metadata": {},
     "output_type": "execute_result"
    }
   ],
   "source": [
    "def conduct_experiment(x,\n",
    "                       mean = 0,\n",
    "                       std = 2, \n",
    "                       n_movements = 10, \n",
    "                       k = 3, \n",
    "                       initial_position = np.array([10, 20])):\n",
    "    \n",
    "    np.random.seed(12345)\n",
    "    # Generate random landmarks\n",
    "    landmarks = np.vstack((x, x + np.round(np.random.normal(mean, std, len(x))))).T\n",
    "    \n",
    "    # Generate random classes of landmarks\n",
    "    classes = np.random.randint(0, 4, size = len(x))\n",
    "    \n",
    "    # Conduct experiment\n",
    "    robot = MobileRobot(k, initial_position, landmarks, classes)\n",
    "    \n",
    "    for n in range(n_movements):\n",
    "        robot.move()\n",
    "    \n",
    "    fig, ax = plt.subplots(figsize = (10, 8))\n",
    "    scatter = ax.scatter(landmarks[:, 0], landmarks[:, 1], c = classes)\n",
    "    legend1 = ax.legend(*scatter.legend_elements(),\n",
    "                        loc=\"lower left\", title=\"classes\")\n",
    "    ax.add_artist(legend1)\n",
    "    \n",
    "    traj = robot.trajectory# <ВАШ КОД ЗДЕСЬ>\n",
    "    #print('traj:', traj)\n",
    "    ax.plot(traj[:, 0], traj[:, 1], \n",
    "               c = 'r', marker = 'o', label = 'robot position')\n",
    "\n",
    "    plt.plot()\n",
    "    _ = plt.legend()\n",
    "    _ = plt.grid()\n",
    "robot.initial_position[0,0],robot.initial_position[0],robot.trajectory.shape"
   ]
  },
  {
   "cell_type": "code",
   "execution_count": 552,
   "metadata": {},
   "outputs": [
    {
     "data": {
      "image/png": "[encoded data removed]",
      "text/plain": [
       "<Figure size 720x576 with 1 Axes>"
      ]
     },
     "metadata": {
      "needs_background": "light"
     },
     "output_type": "display_data"
    }
   ],
   "source": [
    "x = np.arange(30)\n",
    "conduct_experiment(x, mean = 3, std = 10, k = 5, n_movements = 50)#, plot_decision_regions(X=X, y=random_classes, clf=robot.knn, legend=2)\n",
    "#robot.trajectory\n",
    " "
   ]
  },
  {
   "cell_type": "markdown",
   "metadata": {},
   "source": [
    "**Задача 2.3 (1 балл)** Как число соседей влияет на траекторию движения робота в нашем эксперименте? Постройте четыре графика с различным числом соседей на ваш выбор. А что было бы в случае, если классы назначаются меткам не случайно, а осмысленно? "
   ]
  },
  {
   "cell_type": "code",
   "execution_count": 577,
   "metadata": {},
   "outputs": [
    {
     "name": "stdout",
     "output_type": "stream",
     "text": [
      "При максимальном k график идет в соответствие с преобладующим классом - движение вниз в 80% случаев, в 20% - вправо(первый график)\n",
      "\n",
      "При k=1 решающую роль играет случайность: так примерно на отметке х=17 (рядом с первой желтой точкой) без случайности график двигался вниздо тех пор, пока не оказался бы в поле зеленого класса (т.е. движение вниз) и дальше бы отправился вверх, столкнулся бы с желтым классом, отправился вниз и так и не вышел с этого участка между классами 'вверх' и 'вниз'. Таким образом, случайность позволяет не замкнуться в цикле на соседствующих участках классов'вверх'-'вниз', а дает шанс выйти из этого замкнутого круга. Однако при попадании в похожую зону между классами 'вправо'-'влево' случайный выбор не дает никаких преимуществи мы попадаем в замкнутый цикл, как это происходит при k=2 и при k=1 на третьем и четвертом графике. Учитывая, что количесвто шагов на втором и двух последних графиков одинаковобольшое, на втором графике замкнутого цикла нет и обилие точек превращается в толстую линию, на последних же двух графиков робот не смог выйти из цикла и случайность не сыграланикакой роли, потому мы четко можем различить основные позиции робота.\n",
      "\n",
      "Добавлю, что такое происходит именно когда робот, выйдя с территории 'вправо' (действие происходиит на правой стороне поля), оказался на территории класса 'влево', и при вероятности двинутся не влево (чтобы не попасть в предыдущую точку, еоторая вернет его обратно же), которая составляет лишь 20%, мы можем пойти дальше, но поскольку онаневелика, то мы и замыкаемся. При большем числе соседей длина цепочки увеличивается незначительно (на один шаг вправо стало больше, если сравнивать n=150 (закомментировано) и n=5000 для k=2). При осознанном выборе случайностей и добавления случайности вверх или вниз(одного из них достаточно) можно было бы избежать замкнутых циклов.\n",
      "\n",
      "Если слвсем убрать случайности, то появятся замкнутые циклы вверх-вниз либо вправо-влево.\n"
     ]
    },
    {
     "data": {
      "image/png": "[encoded data removed]",
      "text/plain": [
       "<Figure size 720x576 with 1 Axes>"
      ]
     },
     "metadata": {
      "needs_background": "light"
     },
     "output_type": "display_data"
    },
    {
     "data": {
      "image/png": "[encoded data removed]",
      "text/plain": [
       "<Figure size 720x576 with 1 Axes>"
      ]
     },
     "metadata": {
      "needs_background": "light"
     },
     "output_type": "display_data"
    },
    {
     "data": {
      "image/png": "[encoded data removed]",
      "text/plain": [
       "<Figure size 720x576 with 1 Axes>"
      ]
     },
     "metadata": {
      "needs_background": "light"
     },
     "output_type": "display_data"
    },
    {
     "data": {
      "image/png": "[encoded data removed]",
      "text/plain": [
       "<Figure size 720x576 with 1 Axes>"
      ]
     },
     "metadata": {
      "needs_background": "light"
     },
     "output_type": "display_data"
    }
   ],
   "source": [
    "conduct_experiment(x, mean = 3, std = 10, k = 20, n_movements = 50)\n",
    "print('При максимальном k график идет в соответствие с преобладующим классом - движение вниз в 80% случаев, в 20% - вправо(первый график)\\n')\n",
    "\n",
    "conduct_experiment(x, mean = 3, std = 10, k = 4, n_movements = 5000)\n",
    "#conduct_experiment(x, mean = 3, std = 10, k = 2, n_movements = 150)\n",
    "conduct_experiment(x, mean = 3, std = 10, k = 2, n_movements = 5000)\n",
    "conduct_experiment(x, mean = 3, std = 10, k = 1, n_movements = 5000)\n",
    "print(\"При k=1 решающую роль играет случайность: так примерно на отметке х=17 (рядом с первой желтой точкой) без случайности график двигался вниз\"\n",
    "     \" до тех пор, пока не оказался бы в поле зеленого класса (т.е. движение вниз) и дальше бы отправился вверх, столкнулся бы с желтым классом, отправился вниз и так и \"\n",
    "     \" не вышел с этого участка между классами 'вверх' и 'вниз'. Таким образом, случайность позволяет не замкнуться в цикле на соседствующих участках классов\"\n",
    "     \" 'вверх'-'вниз', а дает шанс выйти из этого замкнутого круга. Однако при попадании в похожую зону между классами 'вправо'-'влево' случайный выбор не дает никаких преимуществ\"\n",
    "     \" и мы попадаем в замкнутый цикл, как это происходит при k=2 и при k=1 на третьем и четвертом графике. Учитывая, что количесвто шагов на втором и двух последних графиков одинаково\"\n",
    "      \" большое, на втором графике замкнутого цикла нет и обилие точек превращается в толстую линию, на последних же двух графиков робот не смог выйти из цикла и случайность не сыграла\"\n",
    "     \" никакой роли, потому мы четко можем различить основные позиции робота.\"\n",
    "     \"\\n\\nДобавлю, что такое происходит именно когда робот, выйдя с территории 'вправо' (действие происходиит на правой стороне поля), оказался на территории класса 'влево', \"\n",
    "      \" и при вероятности двинутся не влево (чтобы не попасть в предыдущую точку, еоторая вернет его обратно же), которая составляет лишь 20%, мы можем пойти дальше, но поскольку она\"\n",
    "     \" невелика, то мы и замыкаемся. При большем числе соседей длина цепочки увеличивается незначительно (на один шаг вправо стало больше, если сравнивать n=150 (закомментировано) \"\n",
    "     \" и n=5000 для k=2). При осознанном выборе случайностей и добавления случайности вверх или вниз(одного из них достаточно) можно было бы избежать замкнутых циклов.\"\n",
    "     \"\\n\\nЕсли слвсем убрать случайности, то появятся замкнутые циклы вверх-вниз либо вправо-влево.\")"
   ]
  },
  {
   "cell_type": "markdown",
   "metadata": {},
   "source": [
    "### Задание 3: Линейная регрессия."
   ]
  },
  {
   "cell_type": "markdown",
   "metadata": {},
   "source": [
    "В этом задании мы рассмотрим различные аспекты построения линейной модели. Мы будем работать с одним из классических наборов данных в статистике, содержащим информацию о бриллиантах. Описание можно посмотреть [здесь](https://www.kaggle.com/shivam2503/diamonds)."
   ]
  },
  {
   "cell_type": "code",
   "execution_count": 168,
   "metadata": {},
   "outputs": [
    {
     "data": {
      "text/html": [
       "<div>\n",
       "<style scoped>\n",
       "    .dataframe tbody tr th:only-of-type {\n",
       "        vertical-align: middle;\n",
       "    }\n",
       "\n",
       "    .dataframe tbody tr th {\n",
       "        vertical-align: top;\n",
       "    }\n",
       "\n",
       "    .dataframe thead th {\n",
       "        text-align: right;\n",
       "    }\n",
       "</style>\n",
       "<table border=\"1\" class=\"dataframe\">\n",
       "  <thead>\n",
       "    <tr style=\"text-align: right;\">\n",
       "      <th></th>\n",
       "      <th>Unnamed: 0</th>\n",
       "      <th>carat</th>\n",
       "      <th>cut</th>\n",
       "      <th>color</th>\n",
       "      <th>clarity</th>\n",
       "      <th>depth</th>\n",
       "      <th>table</th>\n",
       "      <th>price</th>\n",
       "      <th>x</th>\n",
       "      <th>y</th>\n",
       "      <th>z</th>\n",
       "    </tr>\n",
       "  </thead>\n",
       "  <tbody>\n",
       "    <tr>\n",
       "      <th>0</th>\n",
       "      <td>1</td>\n",
       "      <td>0.23</td>\n",
       "      <td>Ideal</td>\n",
       "      <td>E</td>\n",
       "      <td>SI2</td>\n",
       "      <td>61.5</td>\n",
       "      <td>55.0</td>\n",
       "      <td>326</td>\n",
       "      <td>3.95</td>\n",
       "      <td>3.98</td>\n",
       "      <td>2.43</td>\n",
       "    </tr>\n",
       "    <tr>\n",
       "      <th>1</th>\n",
       "      <td>2</td>\n",
       "      <td>0.21</td>\n",
       "      <td>Premium</td>\n",
       "      <td>E</td>\n",
       "      <td>SI1</td>\n",
       "      <td>59.8</td>\n",
       "      <td>61.0</td>\n",
       "      <td>326</td>\n",
       "      <td>3.89</td>\n",
       "      <td>3.84</td>\n",
       "      <td>2.31</td>\n",
       "    </tr>\n",
       "    <tr>\n",
       "      <th>2</th>\n",
       "      <td>3</td>\n",
       "      <td>0.23</td>\n",
       "      <td>Good</td>\n",
       "      <td>E</td>\n",
       "      <td>VS1</td>\n",
       "      <td>56.9</td>\n",
       "      <td>65.0</td>\n",
       "      <td>327</td>\n",
       "      <td>4.05</td>\n",
       "      <td>4.07</td>\n",
       "      <td>2.31</td>\n",
       "    </tr>\n",
       "    <tr>\n",
       "      <th>3</th>\n",
       "      <td>4</td>\n",
       "      <td>0.29</td>\n",
       "      <td>Premium</td>\n",
       "      <td>I</td>\n",
       "      <td>VS2</td>\n",
       "      <td>62.4</td>\n",
       "      <td>58.0</td>\n",
       "      <td>334</td>\n",
       "      <td>4.20</td>\n",
       "      <td>4.23</td>\n",
       "      <td>2.63</td>\n",
       "    </tr>\n",
       "    <tr>\n",
       "      <th>4</th>\n",
       "      <td>5</td>\n",
       "      <td>0.31</td>\n",
       "      <td>Good</td>\n",
       "      <td>J</td>\n",
       "      <td>SI2</td>\n",
       "      <td>63.3</td>\n",
       "      <td>58.0</td>\n",
       "      <td>335</td>\n",
       "      <td>4.34</td>\n",
       "      <td>4.35</td>\n",
       "      <td>2.75</td>\n",
       "    </tr>\n",
       "  </tbody>\n",
       "</table>\n",
       "</div>"
      ],
      "text/plain": [
       "   Unnamed: 0  carat      cut color clarity  depth  table  price     x     y  \\\n",
       "0           1   0.23    Ideal     E     SI2   61.5   55.0    326  3.95  3.98   \n",
       "1           2   0.21  Premium     E     SI1   59.8   61.0    326  3.89  3.84   \n",
       "2           3   0.23     Good     E     VS1   56.9   65.0    327  4.05  4.07   \n",
       "3           4   0.29  Premium     I     VS2   62.4   58.0    334  4.20  4.23   \n",
       "4           5   0.31     Good     J     SI2   63.3   58.0    335  4.34  4.35   \n",
       "\n",
       "      z  \n",
       "0  2.43  \n",
       "1  2.31  \n",
       "2  2.31  \n",
       "3  2.63  \n",
       "4  2.75  "
      ]
     },
     "execution_count": 168,
     "metadata": {},
     "output_type": "execute_result"
    }
   ],
   "source": [
    "data = pd.read_csv('https://raw.githubusercontent.com/hse-ds/iad-intro-ds/master/2021/homeworks/hw04-knn_linreg/data/diamonds.csv')\n",
    "data.head(5)"
   ]
  },
  {
   "cell_type": "markdown",
   "metadata": {},
   "source": [
    "Мы будем решать задачу предсказания цены бриллианта `price` в зависимости от его характеристик."
   ]
  },
  {
   "cell_type": "markdown",
   "metadata": {},
   "source": [
    "**Задача 3.1 (0.1 балла)** Есть ли в наборе данных пропущенные значения? Если да, удалите их. "
   ]
  },
  {
   "cell_type": "code",
   "execution_count": 169,
   "metadata": {},
   "outputs": [
    {
     "name": "stdout",
     "output_type": "stream",
     "text": [
      "Unnamed: 0    0.0\n",
      "carat         0.0\n",
      "cut           0.0\n",
      "color         0.0\n",
      "clarity       0.0\n",
      "depth         0.0\n",
      "table         0.0\n",
      "price         0.0\n",
      "x             0.0\n",
      "y             0.0\n",
      "z             0.0\n",
      "dtype: float64 Пропущенных значений, как видим, нет\n"
     ]
    }
   ],
   "source": [
    "print(data.isnull().mean(), \"Пропущенных значений, как видим, нет\")"
   ]
  },
  {
   "cell_type": "markdown",
   "metadata": {},
   "source": [
    "**Задача 3.2 (0.1 балла)** Есть ли в наборе данных бессмысленные столбцы (признаки, не несущие дополнительной информации)? Если да, то удалите их."
   ]
  },
  {
   "cell_type": "code",
   "execution_count": 170,
   "metadata": {},
   "outputs": [],
   "source": [
    "data=data.drop('Unnamed: 0', axis=1)"
   ]
  },
  {
   "cell_type": "markdown",
   "metadata": {},
   "source": [
    "**Задача 3.3 (0.1 балла)** Линейная регрессия основана на предположении о линейной связи между признаками и целевой переменной, а потому перед выбором переменных для включения в модель имеет смысл проверить, насколько эта связь выполняется. Для следующих пунктов нам также потребуются выборочные корреляции между признаками. Выведите матрицу выборочных корреляций между всеми вещественными признаками и целевой переменной (то есть в этой матрице будет $k+1$ строка, где $k$ – количество вещественных признаков).\n",
    "\n",
    "Какие вещественные признаки коррелируют с целевой переменной больше всего?"
   ]
  },
  {
   "cell_type": "code",
   "execution_count": 171,
   "metadata": {},
   "outputs": [
    {
     "name": "stdout",
     "output_type": "stream",
     "text": [
      "price коррелирует с carat(0.922), x(0.884), y(0.865), z(0.861)\n"
     ]
    },
    {
     "data": {
      "text/plain": [
       "array([[ 0.9215913 ],\n",
       "       [-0.0106474 ],\n",
       "       [ 0.1271339 ],\n",
       "       [ 0.88443516],\n",
       "       [ 0.8654209 ],\n",
       "       [ 0.86124944]])"
      ]
     },
     "execution_count": 171,
     "metadata": {},
     "output_type": "execute_result"
    }
   ],
   "source": [
    "y = data.price #определили целевую переменную как у\n",
    "data=data.drop('price', axis=1)\n",
    "X=data\n",
    "print(\"price коррелирует с carat(0.922), x(0.884), y(0.865), z(0.861)\")\n",
    "\n",
    "#решение:\n",
    "np.vstack((np.corrcoef(data['carat'], y)[0,1], np.corrcoef(data['depth'], y)[0,1], np.corrcoef(data['table'], y)[0,1],np.corrcoef(data['x'], y)[0,1],np.corrcoef(data['y'], y)[0,1], np.corrcoef(data['z'], y)[0,1]))"
   ]
  },
  {
   "cell_type": "markdown",
   "metadata": {},
   "source": [
    "**Задача 3.4 (0.1 балла)** Так как линейная модель складывает значения признаков с некоторыми весами, нам нужно аккуратно обработать категориальные признаки. Закодируйте категориальные переменные при помощи OneHot-кодирования."
   ]
  },
  {
   "cell_type": "code",
   "execution_count": 172,
   "metadata": {},
   "outputs": [
    {
     "data": {
      "text/html": [
       "<div>\n",
       "<style scoped>\n",
       "    .dataframe tbody tr th:only-of-type {\n",
       "        vertical-align: middle;\n",
       "    }\n",
       "\n",
       "    .dataframe tbody tr th {\n",
       "        vertical-align: top;\n",
       "    }\n",
       "\n",
       "    .dataframe thead th {\n",
       "        text-align: right;\n",
       "    }\n",
       "</style>\n",
       "<table border=\"1\" class=\"dataframe\">\n",
       "  <thead>\n",
       "    <tr style=\"text-align: right;\">\n",
       "      <th></th>\n",
       "      <th>carat</th>\n",
       "      <th>depth</th>\n",
       "      <th>table</th>\n",
       "      <th>x</th>\n",
       "      <th>y</th>\n",
       "      <th>z</th>\n",
       "      <th>cut_Good</th>\n",
       "      <th>cut_Ideal</th>\n",
       "      <th>cut_Premium</th>\n",
       "      <th>cut_Very Good</th>\n",
       "      <th>...</th>\n",
       "      <th>color_H</th>\n",
       "      <th>color_I</th>\n",
       "      <th>color_J</th>\n",
       "      <th>clarity_IF</th>\n",
       "      <th>clarity_SI1</th>\n",
       "      <th>clarity_SI2</th>\n",
       "      <th>clarity_VS1</th>\n",
       "      <th>clarity_VS2</th>\n",
       "      <th>clarity_VVS1</th>\n",
       "      <th>clarity_VVS2</th>\n",
       "    </tr>\n",
       "  </thead>\n",
       "  <tbody>\n",
       "    <tr>\n",
       "      <th>0</th>\n",
       "      <td>0.23</td>\n",
       "      <td>61.5</td>\n",
       "      <td>55.0</td>\n",
       "      <td>3.95</td>\n",
       "      <td>3.98</td>\n",
       "      <td>2.43</td>\n",
       "      <td>0</td>\n",
       "      <td>1</td>\n",
       "      <td>0</td>\n",
       "      <td>0</td>\n",
       "      <td>...</td>\n",
       "      <td>0</td>\n",
       "      <td>0</td>\n",
       "      <td>0</td>\n",
       "      <td>0</td>\n",
       "      <td>0</td>\n",
       "      <td>1</td>\n",
       "      <td>0</td>\n",
       "      <td>0</td>\n",
       "      <td>0</td>\n",
       "      <td>0</td>\n",
       "    </tr>\n",
       "    <tr>\n",
       "      <th>1</th>\n",
       "      <td>0.21</td>\n",
       "      <td>59.8</td>\n",
       "      <td>61.0</td>\n",
       "      <td>3.89</td>\n",
       "      <td>3.84</td>\n",
       "      <td>2.31</td>\n",
       "      <td>0</td>\n",
       "      <td>0</td>\n",
       "      <td>1</td>\n",
       "      <td>0</td>\n",
       "      <td>...</td>\n",
       "      <td>0</td>\n",
       "      <td>0</td>\n",
       "      <td>0</td>\n",
       "      <td>0</td>\n",
       "      <td>1</td>\n",
       "      <td>0</td>\n",
       "      <td>0</td>\n",
       "      <td>0</td>\n",
       "      <td>0</td>\n",
       "      <td>0</td>\n",
       "    </tr>\n",
       "    <tr>\n",
       "      <th>2</th>\n",
       "      <td>0.23</td>\n",
       "      <td>56.9</td>\n",
       "      <td>65.0</td>\n",
       "      <td>4.05</td>\n",
       "      <td>4.07</td>\n",
       "      <td>2.31</td>\n",
       "      <td>1</td>\n",
       "      <td>0</td>\n",
       "      <td>0</td>\n",
       "      <td>0</td>\n",
       "      <td>...</td>\n",
       "      <td>0</td>\n",
       "      <td>0</td>\n",
       "      <td>0</td>\n",
       "      <td>0</td>\n",
       "      <td>0</td>\n",
       "      <td>0</td>\n",
       "      <td>1</td>\n",
       "      <td>0</td>\n",
       "      <td>0</td>\n",
       "      <td>0</td>\n",
       "    </tr>\n",
       "    <tr>\n",
       "      <th>3</th>\n",
       "      <td>0.29</td>\n",
       "      <td>62.4</td>\n",
       "      <td>58.0</td>\n",
       "      <td>4.20</td>\n",
       "      <td>4.23</td>\n",
       "      <td>2.63</td>\n",
       "      <td>0</td>\n",
       "      <td>0</td>\n",
       "      <td>1</td>\n",
       "      <td>0</td>\n",
       "      <td>...</td>\n",
       "      <td>0</td>\n",
       "      <td>1</td>\n",
       "      <td>0</td>\n",
       "      <td>0</td>\n",
       "      <td>0</td>\n",
       "      <td>0</td>\n",
       "      <td>0</td>\n",
       "      <td>1</td>\n",
       "      <td>0</td>\n",
       "      <td>0</td>\n",
       "    </tr>\n",
       "    <tr>\n",
       "      <th>4</th>\n",
       "      <td>0.31</td>\n",
       "      <td>63.3</td>\n",
       "      <td>58.0</td>\n",
       "      <td>4.34</td>\n",
       "      <td>4.35</td>\n",
       "      <td>2.75</td>\n",
       "      <td>1</td>\n",
       "      <td>0</td>\n",
       "      <td>0</td>\n",
       "      <td>0</td>\n",
       "      <td>...</td>\n",
       "      <td>0</td>\n",
       "      <td>0</td>\n",
       "      <td>1</td>\n",
       "      <td>0</td>\n",
       "      <td>0</td>\n",
       "      <td>1</td>\n",
       "      <td>0</td>\n",
       "      <td>0</td>\n",
       "      <td>0</td>\n",
       "      <td>0</td>\n",
       "    </tr>\n",
       "  </tbody>\n",
       "</table>\n",
       "<p>5 rows × 23 columns</p>\n",
       "</div>"
      ],
      "text/plain": [
       "   carat  depth  table     x     y     z  cut_Good  cut_Ideal  cut_Premium  \\\n",
       "0   0.23   61.5   55.0  3.95  3.98  2.43         0          1            0   \n",
       "1   0.21   59.8   61.0  3.89  3.84  2.31         0          0            1   \n",
       "2   0.23   56.9   65.0  4.05  4.07  2.31         1          0            0   \n",
       "3   0.29   62.4   58.0  4.20  4.23  2.63         0          0            1   \n",
       "4   0.31   63.3   58.0  4.34  4.35  2.75         1          0            0   \n",
       "\n",
       "   cut_Very Good  ...  color_H  color_I  color_J  clarity_IF  clarity_SI1  \\\n",
       "0              0  ...        0        0        0           0            0   \n",
       "1              0  ...        0        0        0           0            1   \n",
       "2              0  ...        0        0        0           0            0   \n",
       "3              0  ...        0        1        0           0            0   \n",
       "4              0  ...        0        0        1           0            0   \n",
       "\n",
       "   clarity_SI2  clarity_VS1  clarity_VS2  clarity_VVS1  clarity_VVS2  \n",
       "0            1            0            0             0             0  \n",
       "1            0            0            0             0             0  \n",
       "2            0            1            0             0             0  \n",
       "3            0            0            1             0             0  \n",
       "4            1            0            0             0             0  \n",
       "\n",
       "[5 rows x 23 columns]"
      ]
     },
     "execution_count": 172,
     "metadata": {},
     "output_type": "execute_result"
    }
   ],
   "source": [
    "data_dum=pd.get_dummies(data, drop_first=True)\n",
    "data_dum.head()\n"
   ]
  },
  {
   "cell_type": "markdown",
   "metadata": {},
   "source": [
    "**Задача 3.5 (0.2 балла)** Разделите выборку на тренировочную и тестовую. Долю тестовой выборки укажите равной 0.3."
   ]
  },
  {
   "cell_type": "code",
   "execution_count": 173,
   "metadata": {},
   "outputs": [
    {
     "data": {
      "text/plain": [
       "((37758, 23), (37758,), (16182, 23), (16182,))"
      ]
     },
     "execution_count": 173,
     "metadata": {},
     "output_type": "execute_result"
    }
   ],
   "source": [
    "from sklearn.model_selection import train_test_split\n",
    "np.random.seed(12345)\n",
    "X_train, X_test, y_train, y_test = train_test_split(data_dum, y, test_size=0.3) #, random_state=123)\n",
    "X_train.shape, y_train.shape, X_test.shape, y_test.shape"
   ]
  },
  {
   "cell_type": "markdown",
   "metadata": {},
   "source": [
    "**Задача 3.6 (0.3 балла)** Зачастую при использовании линейных моделей вещественные признаки масштабируются. При этом оценки коэффициентов теряют прямую статистическую интерпретацию (\"при увеличении $X_1$ на 1, $y$ увеличивается на $w_1$\"), но приобретают свойства, полезные в задачах машинного обучения. В этой задаче масштабируйте вещественные признаки тренировочной и тестовой выборок при помощи модуля `StandardScaler`."
   ]
  },
  {
   "cell_type": "code",
   "execution_count": 174,
   "metadata": {},
   "outputs": [
    {
     "data": {
      "text/html": [
       "<div>\n",
       "<style scoped>\n",
       "    .dataframe tbody tr th:only-of-type {\n",
       "        vertical-align: middle;\n",
       "    }\n",
       "\n",
       "    .dataframe tbody tr th {\n",
       "        vertical-align: top;\n",
       "    }\n",
       "\n",
       "    .dataframe thead th {\n",
       "        text-align: right;\n",
       "    }\n",
       "</style>\n",
       "<table border=\"1\" class=\"dataframe\">\n",
       "  <thead>\n",
       "    <tr style=\"text-align: right;\">\n",
       "      <th></th>\n",
       "      <th>0</th>\n",
       "      <th>1</th>\n",
       "      <th>2</th>\n",
       "      <th>3</th>\n",
       "      <th>4</th>\n",
       "      <th>5</th>\n",
       "      <th>6</th>\n",
       "      <th>7</th>\n",
       "      <th>8</th>\n",
       "      <th>9</th>\n",
       "      <th>...</th>\n",
       "      <th>13</th>\n",
       "      <th>14</th>\n",
       "      <th>15</th>\n",
       "      <th>16</th>\n",
       "      <th>17</th>\n",
       "      <th>18</th>\n",
       "      <th>19</th>\n",
       "      <th>20</th>\n",
       "      <th>21</th>\n",
       "      <th>22</th>\n",
       "    </tr>\n",
       "  </thead>\n",
       "  <tbody>\n",
       "    <tr>\n",
       "      <th>0</th>\n",
       "      <td>-0.927373</td>\n",
       "      <td>-0.311238</td>\n",
       "      <td>1.133187</td>\n",
       "      <td>-1.082573</td>\n",
       "      <td>-1.029988</td>\n",
       "      <td>-1.057217</td>\n",
       "      <td>-0.316707</td>\n",
       "      <td>-0.814777</td>\n",
       "      <td>1.705964</td>\n",
       "      <td>-0.538466</td>\n",
       "      <td>...</td>\n",
       "      <td>-0.425667</td>\n",
       "      <td>-0.333392</td>\n",
       "      <td>4.305040</td>\n",
       "      <td>-0.185497</td>\n",
       "      <td>1.761475</td>\n",
       "      <td>-0.453</td>\n",
       "      <td>-0.422363</td>\n",
       "      <td>-0.539407</td>\n",
       "      <td>-0.269292</td>\n",
       "      <td>-0.324393</td>\n",
       "    </tr>\n",
       "    <tr>\n",
       "      <th>1</th>\n",
       "      <td>-0.167973</td>\n",
       "      <td>0.247483</td>\n",
       "      <td>0.242202</td>\n",
       "      <td>-0.004751</td>\n",
       "      <td>0.020092</td>\n",
       "      <td>0.040537</td>\n",
       "      <td>-0.316707</td>\n",
       "      <td>-0.814777</td>\n",
       "      <td>1.705964</td>\n",
       "      <td>-0.538466</td>\n",
       "      <td>...</td>\n",
       "      <td>-0.425667</td>\n",
       "      <td>-0.333392</td>\n",
       "      <td>-0.232286</td>\n",
       "      <td>-0.185497</td>\n",
       "      <td>1.761475</td>\n",
       "      <td>-0.453</td>\n",
       "      <td>-0.422363</td>\n",
       "      <td>-0.539407</td>\n",
       "      <td>-0.269292</td>\n",
       "      <td>-0.324393</td>\n",
       "    </tr>\n",
       "    <tr>\n",
       "      <th>2</th>\n",
       "      <td>1.245357</td>\n",
       "      <td>-0.660439</td>\n",
       "      <td>-0.203290</td>\n",
       "      <td>1.340300</td>\n",
       "      <td>1.321474</td>\n",
       "      <td>1.194586</td>\n",
       "      <td>-0.316707</td>\n",
       "      <td>1.227330</td>\n",
       "      <td>-0.586179</td>\n",
       "      <td>-0.538466</td>\n",
       "      <td>...</td>\n",
       "      <td>-0.425667</td>\n",
       "      <td>-0.333392</td>\n",
       "      <td>-0.232286</td>\n",
       "      <td>-0.185497</td>\n",
       "      <td>-0.567706</td>\n",
       "      <td>-0.453</td>\n",
       "      <td>-0.422363</td>\n",
       "      <td>1.853887</td>\n",
       "      <td>-0.269292</td>\n",
       "      <td>-0.324393</td>\n",
       "    </tr>\n",
       "    <tr>\n",
       "      <th>3</th>\n",
       "      <td>-0.990657</td>\n",
       "      <td>-0.660439</td>\n",
       "      <td>0.242202</td>\n",
       "      <td>-1.127111</td>\n",
       "      <td>-1.164614</td>\n",
       "      <td>-1.169808</td>\n",
       "      <td>-0.316707</td>\n",
       "      <td>-0.814777</td>\n",
       "      <td>1.705964</td>\n",
       "      <td>-0.538466</td>\n",
       "      <td>...</td>\n",
       "      <td>-0.425667</td>\n",
       "      <td>-0.333392</td>\n",
       "      <td>-0.232286</td>\n",
       "      <td>-0.185497</td>\n",
       "      <td>-0.567706</td>\n",
       "      <td>-0.453</td>\n",
       "      <td>-0.422363</td>\n",
       "      <td>1.853887</td>\n",
       "      <td>-0.269292</td>\n",
       "      <td>-0.324393</td>\n",
       "    </tr>\n",
       "    <tr>\n",
       "      <th>4</th>\n",
       "      <td>0.971129</td>\n",
       "      <td>0.387164</td>\n",
       "      <td>-0.203290</td>\n",
       "      <td>1.010718</td>\n",
       "      <td>1.061198</td>\n",
       "      <td>1.067922</td>\n",
       "      <td>-0.316707</td>\n",
       "      <td>1.227330</td>\n",
       "      <td>-0.586179</td>\n",
       "      <td>-0.538466</td>\n",
       "      <td>...</td>\n",
       "      <td>-0.425667</td>\n",
       "      <td>-0.333392</td>\n",
       "      <td>-0.232286</td>\n",
       "      <td>-0.185497</td>\n",
       "      <td>-0.567706</td>\n",
       "      <td>-0.453</td>\n",
       "      <td>-0.422363</td>\n",
       "      <td>-0.539407</td>\n",
       "      <td>-0.269292</td>\n",
       "      <td>3.082681</td>\n",
       "    </tr>\n",
       "  </tbody>\n",
       "</table>\n",
       "<p>5 rows × 23 columns</p>\n",
       "</div>"
      ],
      "text/plain": [
       "         0         1         2         3         4         5         6   \\\n",
       "0 -0.927373 -0.311238  1.133187 -1.082573 -1.029988 -1.057217 -0.316707   \n",
       "1 -0.167973  0.247483  0.242202 -0.004751  0.020092  0.040537 -0.316707   \n",
       "2  1.245357 -0.660439 -0.203290  1.340300  1.321474  1.194586 -0.316707   \n",
       "3 -0.990657 -0.660439  0.242202 -1.127111 -1.164614 -1.169808 -0.316707   \n",
       "4  0.971129  0.387164 -0.203290  1.010718  1.061198  1.067922 -0.316707   \n",
       "\n",
       "         7         8         9   ...        13        14        15        16  \\\n",
       "0 -0.814777  1.705964 -0.538466  ... -0.425667 -0.333392  4.305040 -0.185497   \n",
       "1 -0.814777  1.705964 -0.538466  ... -0.425667 -0.333392 -0.232286 -0.185497   \n",
       "2  1.227330 -0.586179 -0.538466  ... -0.425667 -0.333392 -0.232286 -0.185497   \n",
       "3 -0.814777  1.705964 -0.538466  ... -0.425667 -0.333392 -0.232286 -0.185497   \n",
       "4  1.227330 -0.586179 -0.538466  ... -0.425667 -0.333392 -0.232286 -0.185497   \n",
       "\n",
       "         17     18        19        20        21        22  \n",
       "0  1.761475 -0.453 -0.422363 -0.539407 -0.269292 -0.324393  \n",
       "1  1.761475 -0.453 -0.422363 -0.539407 -0.269292 -0.324393  \n",
       "2 -0.567706 -0.453 -0.422363  1.853887 -0.269292 -0.324393  \n",
       "3 -0.567706 -0.453 -0.422363  1.853887 -0.269292 -0.324393  \n",
       "4 -0.567706 -0.453 -0.422363 -0.539407 -0.269292  3.082681  \n",
       "\n",
       "[5 rows x 23 columns]"
      ]
     },
     "execution_count": 174,
     "metadata": {},
     "output_type": "execute_result"
    }
   ],
   "source": [
    "from sklearn import preprocessing\n",
    "from sklearn.preprocessing import StandardScaler\n",
    "\n",
    "normalizer = preprocessing.StandardScaler()\n",
    "\n",
    "X_real_norm_train = normalizer.fit_transform(X_train)\n",
    "X_real_norm_test = normalizer.fit_transform(X_test)\n",
    "X_real_norm_train = pd.DataFrame(data=X_real_norm_train)\n",
    "X_real_norm_test = pd.DataFrame(data=X_real_norm_test)\n",
    "X_real_norm_train.head(5)\n"
   ]
  },
  {
   "cell_type": "markdown",
   "metadata": {},
   "source": [
    "**Задача 3.7 (0.2 балла)** Оцените линейную регрессию на тренировочной выборке. Выведите среднеквадратичную ошибку на тренировочной и тестовой выборках."
   ]
  },
  {
   "cell_type": "code",
   "execution_count": 175,
   "metadata": {},
   "outputs": [
    {
     "name": "stdout",
     "output_type": "stream",
     "text": [
      "На тренировочной:  1295920.7310854401\n",
      "На тестовой:  1267745.1088336587\n"
     ]
    }
   ],
   "source": [
    "from sklearn.linear_model import LinearRegression\n",
    "from sklearn.metrics import mean_squared_error \n",
    "model = LinearRegression().fit(X_real_norm_train, y_train)\n",
    "print(\"На тренировочной: \", mean_squared_error(model.predict(X_real_norm_train), y_train))\n",
    "print(\"На тестовой: \", mean_squared_error(model.predict(X_real_norm_test), y_test))"
   ]
  },
  {
   "cell_type": "markdown",
   "metadata": {},
   "source": [
    "**Задача 3.8 (0.2 балла)** Изучите документацию модуля `LinearRegression` и выведите полученные оценки коэффициентов. Назовите вещественные переменные, оценки коэффициентов которых по модулю на порядок превышают оценки прочих вещественных переменных."
   ]
  },
  {
   "cell_type": "code",
   "execution_count": 176,
   "metadata": {},
   "outputs": [
    {
     "name": "stdout",
     "output_type": "stream",
     "text": [
      "[ 5363.93392431   -99.19841637   -65.08485867 -1544.20339181\n",
      "   417.8699926    -33.58965226   149.25099301   379.62869677\n",
      "   315.08017839   277.36948766   -85.84504554  -108.49662969\n",
      "  -204.72580594  -358.56852877  -445.3207403   -533.5318589\n",
      "   966.37486222  1569.7169277   1005.03788798  1638.7741563\n",
      "  1783.71979788  1262.59503376  1457.90799584] \n",
      "\n",
      "Всего 23 коэффициента на 23 признака после Onehot-кодирования. При признаках carat(1), x(4), 18-23 признаки (это сlarity_VS1, clarity_VS2, clarity_VVS1, clarity_VVS) коэффициенты на порядок выше, чем при остальных признаках.\n"
     ]
    }
   ],
   "source": [
    "np.random.seed(12345)\n",
    "print(model.coef_, \"\\n\\nВсего 23 коэффициента на 23 признака после Onehot-кодирования. При признаках carat(1), x(4), 18-23 признаки (это сlarity_VS1, clarity_VS2, clarity_VVS1, clarity_VVS)\"\n",
    "     \" коэффициенты на порядок выше, чем при остальных признаках.\")"
   ]
  },
  {
   "cell_type": "markdown",
   "metadata": {},
   "source": [
    "**Задача 3.9 (0.4 балла)** Как можно заметить из анализа корреляционной матрицы в задаче 3.3, между некоторыми признаками имеется сильная корреляция, что может быть индикатором проблемы *мультиколлинеарности*. Различия в порядке коэффициентов, выявленные в предыдущей задаче также намекают на её присутствие. Как известно, для решения этой проблемы можно либо исключить некоторые признаки из модели, либо использовать регуляризацию. Мы воспользуемся вторым вариантом. \n",
    "\n",
    "Вспомним, что смысл регуляризации заключается в том, чтобы изменить функцию потерь так, чтобы устранить проблемы, появляющиеся из-за мультиколлинеарности. При L1-регуляризации предлагается минимизировать следующую функцию потерь:\n",
    "\n",
    "$$\n",
    "\\|y - X\\hat{w}\\|^2 + \\alpha\\sum_{i=1}^k|w_i|\n",
    "$$\n",
    "\n",
    "Такая модель называется Lasso-регрессией.\n",
    "\n",
    "При L2-регуляризации предлагается минимизировать следующую функцию потерь:\n",
    "\n",
    "$$\n",
    "\\|y - X\\hat{w}\\|^2 + \\frac{1}{2}\\alpha\\|w\\|^2\n",
    "$$\n",
    "\n",
    "Такая модель называется Ridge-регрессией. \n",
    "\n",
    "Обучите Lasso-регрессию и Ridge-регрессию, уставновив гиперпараметр регуляризации равным 10. Для этого используйте модули `Lasso` и `Ridge` из `sklearn`. Сильно ли уменьшились веса? Сделайте вывод о том, насколько сильно проблема мультиколлинеарности проявлялась в изначальной регрессии."
   ]
  },
  {
   "cell_type": "code",
   "execution_count": 177,
   "metadata": {},
   "outputs": [
    {
     "name": "stdout",
     "output_type": "stream",
     "text": [
      "\n",
      "---Lasso---\n",
      "Train: 1535422.2271393712\n",
      "Test: 1479024.9588247035\n",
      "Ошибка уменьшилась с 2 миллионов до ~1.5 миллиона.\n",
      "\n",
      "---Ridge---\n",
      "Train: 1301060.89524619\n",
      "Test: 1267830.85585206\n",
      "Ошибка уменьшилась с 2 миллионов до ~130 тысяч.\n"
     ]
    }
   ],
   "source": [
    "from sklearn.linear_model import Ridge, Lasso\n",
    "\n",
    "lasso = Lasso(10.0).fit(X_train,y_train)\n",
    "print (\"\\n---Lasso---\\nTrain: {}\".format(mean_squared_error(y_train, lasso.predict(X_train))))\n",
    "print (\"Test: {}\".format(mean_squared_error(y_test, lasso.predict(X_test))))\n",
    "print(\"Ошибка уменьшилась с 2 миллионов до ~1.5 миллиона.\")\n",
    "\n",
    "ridge = Ridge(10.0).fit(X_train,y_train)\n",
    "print (\"\\n---Ridge---\\nTrain: {}\".format(mean_squared_error(y_train, ridge.predict(X_train))))\n",
    "print (\"Test: {}\".format(mean_squared_error(y_test, ridge.predict(X_test))))\n",
    "print(\"Ошибка уменьшилась с 2 миллионов до ~130 тысяч.\")"
   ]
  },
  {
   "cell_type": "markdown",
   "metadata": {},
   "source": [
    "**Задача 3.10 (0.4 балла)** Как обсуждалось на семинарах, Lasso-регрессию можно использовать для отбора наиболее информативных признаков. Для следующих значений параметра регуляриазции $\\alpha$: 0.1, 1, 10, 100, 200 –  обучите Lasso- и Ridge-регрессии и постройте график измненения евклидовой нормы весов (`np.linalg.norm()` от вектора оценок коэффициентов) в зависимости от параметра $\\alpha$. Как известно, норма является численной характеристикой величины вектора, а потому по норме можно судить о том, насколько большие элементы содержит вектор оценок коэффициентов. \n",
    "\n",
    "Какой метод агрессивнее уменьшает веса? Поясните, почему Lasso-регрессию часто используют для отбора признаков."
   ]
  },
  {
   "cell_type": "code",
   "execution_count": 178,
   "metadata": {},
   "outputs": [
    {
     "data": {
      "image/png": "[encoded data removed]",
      "text/plain": [
       "<Figure size 432x288 with 1 Axes>"
      ]
     },
     "metadata": {
      "needs_background": "light"
     },
     "output_type": "display_data"
    },
    {
     "name": "stdout",
     "output_type": "stream",
     "text": [
      "Lasso агрессивнее уменьшает веса. В Ridge по мере роста альфы веса уменьшаются, но не зануляются, и неинформативные признаки остаются. Lasso-регрессия же зануляет неинформативные признаки и с ростом альфы всё большее количество коэффициентов становится равным 0. Также из-за склонности Lasso-регрессии занулять большие коэффициенты (тем самым ликвидируем и переобучение) и сохранять значимые признаки, её часто используют для отбора признаков. И как видим из графика, lasso засчет зануления неинформативных признаков выдала более низкую норму весов, чем Ridge, что подтверждает слова о занулении неинформативных признаков с большими весами.\n"
     ]
    }
   ],
   "source": [
    "x = np.linspace(0, 200, 10)\n",
    "a1=[]\n",
    "a2=[]\n",
    "alpha_arr = [0.1, 1.0, 10.0, 100.0, 200.0]\n",
    "for k in alpha_arr:    \n",
    "    lasso = Lasso(alpha=k, max_iter=5000).fit(X_train,y_train)\n",
    "    a1.append(np.linalg.norm(lasso.coef_))\n",
    "    ridge = Ridge(k).fit(X_train,y_train)\n",
    "    a2.append(np.linalg.norm(ridge.coef_))\n",
    "plt.plot(alpha_arr, a1)\n",
    "plt.plot(alpha_arr, a2)\n",
    "plt.legend([\"lasso\", \"ridge\"])\n",
    "plt.show()   \n",
    "print(\"Lasso агрессивнее уменьшает веса. В Ridge по мере роста альфы веса уменьшаются, но не зануляются, и неинформативные признаки \"\n",
    "      \"остаются. Lasso-регрессия же зануляет неинформативные признаки и с ростом\"\n",
    "     \" альфы всё большее количество коэффициентов становится равным 0. Также из-за склонности Lasso-регрессии занулять большие коэффициенты (тем самым\"\n",
    "      \" ликвидируем и переобучение) и сохранять значимые признаки, её часто используют для отбора признаков. \"\n",
    "     \"И как видим из графика, lasso засчет зануления неинформативных признаков выдала более низкую норму весов, чем Ridge, что подтверждает слова о занулении\"\n",
    "     \" неинформативных признаков с большими весами.\")"
   ]
  },
  {
   "cell_type": "markdown",
   "metadata": {},
   "source": [
    "**Задача 3.11 (0.5 балла)** \n",
    "В зависимости от значения параметра $\\alpha$ в Lasso-регрессии зануляются разные оценки коэффициентов. Оптимальное значение $\\alpha$ можно подобрать, например, при помощи кросс-валидации по тренировочной выборке. \n",
    "\n",
    "Для проведения кросс-валидации можно использовать модуль `LassoCV`. Этот модуль принимает список значений $\\alpha$ (параметр `alphas`) и при обучении проводит кросс-валидацию для каждого значения из этого списка, сохраняя MSE на каждом участке кросс-валидации (количество участков – параметр `cv`) в матрицу ошибок (то есть итоговая матрица будет иметь размер `len(alphas)` $\\times$ `cv`). После обучения модели матрицу ошибок можно получить, обратившись к атрибуту `.mse_path_`. \n",
    "\n",
    "Заметим, что модель может использовать $\\alpha$ не в том порядке, в котором вы подаёте их в функцию: для определения порядка используйте атрибут `.alphas_` Установите количество участков для кросс-валидации (параметр `cv`) равным 5.\n",
    "\n",
    "Усредните ошибки для каждого значения $\\alpha$ (то есть по строкам матрицы ошибок) и выберите то значение, которое даёт наибольшее качество. "
   ]
  },
  {
   "cell_type": "code",
   "execution_count": 179,
   "metadata": {},
   "outputs": [
    {
     "name": "stdout",
     "output_type": "stream",
     "text": [
      "При последнем альфа, то есть при альфа=0.1 ошибка минимальна, следовательно, качество наибольшее:\n"
     ]
    },
    {
     "data": {
      "text/html": [
       "<div>\n",
       "<style scoped>\n",
       "    .dataframe tbody tr th:only-of-type {\n",
       "        vertical-align: middle;\n",
       "    }\n",
       "\n",
       "    .dataframe tbody tr th {\n",
       "        vertical-align: top;\n",
       "    }\n",
       "\n",
       "    .dataframe thead th {\n",
       "        text-align: right;\n",
       "    }\n",
       "</style>\n",
       "<table border=\"1\" class=\"dataframe\">\n",
       "  <thead>\n",
       "    <tr style=\"text-align: right;\">\n",
       "      <th></th>\n",
       "      <th>0</th>\n",
       "    </tr>\n",
       "  </thead>\n",
       "  <tbody>\n",
       "    <tr>\n",
       "      <th>200.0</th>\n",
       "      <td>3.499181e+06</td>\n",
       "    </tr>\n",
       "    <tr>\n",
       "      <th>100.0</th>\n",
       "      <td>2.525618e+06</td>\n",
       "    </tr>\n",
       "    <tr>\n",
       "      <th>10.0</th>\n",
       "      <td>1.537775e+06</td>\n",
       "    </tr>\n",
       "    <tr>\n",
       "      <th>1.0</th>\n",
       "      <td>1.305288e+06</td>\n",
       "    </tr>\n",
       "    <tr>\n",
       "      <th>0.1</th>\n",
       "      <td>1.301489e+06</td>\n",
       "    </tr>\n",
       "  </tbody>\n",
       "</table>\n",
       "</div>"
      ],
      "text/plain": [
       "                  0\n",
       "200.0  3.499181e+06\n",
       "100.0  2.525618e+06\n",
       "10.0   1.537775e+06\n",
       "1.0    1.305288e+06\n",
       "0.1    1.301489e+06"
      ]
     },
     "execution_count": 179,
     "metadata": {},
     "output_type": "execute_result"
    }
   ],
   "source": [
    "from sklearn.linear_model import LassoCV\n",
    "cross_val = LassoCV(alphas=alpha_arr, cv=5, max_iter=10000).fit(X_train,y_train)\n",
    "print(\"При последнем альфа, то есть при альфа=0.1 ошибка минимальна, следовательно, качество наибольшее:\")\n",
    "pd.DataFrame(cross_val.mse_path_.mean(axis=1), cross_val.alphas_)"
   ]
  },
  {
   "cell_type": "markdown",
   "metadata": {},
   "source": [
    "**Задача 3.12 (0.5 балла)** Обучите итоговую Lasso-регрессию с выбранным параметром $\\alpha$ на тренировочной выборке. Выведите полученные коэффициенты и прокомментируйте, какие признаки оказались неинформативными, а какие – наиболее информативными. Приведите возможное смысловое объяснение этого результата."
   ]
  },
  {
   "cell_type": "code",
   "execution_count": 180,
   "metadata": {},
   "outputs": [
    {
     "name": "stdout",
     "output_type": "stream",
     "text": [
      "Судя по таблице значений, наиболее информативными будут признаки carat, x, clarity, color. Неинформативными оказались table, z, depth.\n",
      "\n",
      "1) Depth, как величина, равная 2z / (x + y), оказывается обратно пропорционально двум значимым величинам и прямо пропорциональна z, которая при выбранном альфа практически не влияет на итоговый ответ. Получается, что и depth будет малоинформативной величиной.\n",
      "\n",
      "2) Вероятно, z оказалась так мало информативной из-за того, что важную роль играет масса бриллианта, а сумма его измерений x+y+z уже становится следствием, поэтому, учитывая carat самый информативный признак, то он словно 'забрал на себя' вес коэффициента при z.\n",
      "\n",
      "3) Table как 'width of top of diamond relative to widest point (43--95)', возможно, аналогично предыдущему пункту зависит отx, y, которые здесь имеют большие веса, потому как похожая на линейно зависимую величину, она была приближена к нулю.\n",
      "\n",
      "Таким образом, на мой взгляд, неинформативными оказались линейно зависимые величины, которые при альфа=0.1 Лассо-регрессия постаралась свести к минимуму.\n"
     ]
    },
    {
     "data": {
      "text/html": [
       "<div>\n",
       "<style scoped>\n",
       "    .dataframe tbody tr th:only-of-type {\n",
       "        vertical-align: middle;\n",
       "    }\n",
       "\n",
       "    .dataframe tbody tr th {\n",
       "        vertical-align: top;\n",
       "    }\n",
       "\n",
       "    .dataframe thead th {\n",
       "        text-align: right;\n",
       "    }\n",
       "</style>\n",
       "<table border=\"1\" class=\"dataframe\">\n",
       "  <thead>\n",
       "    <tr style=\"text-align: right;\">\n",
       "      <th></th>\n",
       "      <th>коэффициент</th>\n",
       "    </tr>\n",
       "  </thead>\n",
       "  <tbody>\n",
       "    <tr>\n",
       "      <th>carat</th>\n",
       "      <td>11300.426555</td>\n",
       "    </tr>\n",
       "    <tr>\n",
       "      <th>depth</th>\n",
       "      <td>-70.229550</td>\n",
       "    </tr>\n",
       "    <tr>\n",
       "      <th>table</th>\n",
       "      <td>-29.397841</td>\n",
       "    </tr>\n",
       "    <tr>\n",
       "      <th>x</th>\n",
       "      <td>-1330.836953</td>\n",
       "    </tr>\n",
       "    <tr>\n",
       "      <th>y</th>\n",
       "      <td>333.254707</td>\n",
       "    </tr>\n",
       "    <tr>\n",
       "      <th>z</th>\n",
       "      <td>-44.435121</td>\n",
       "    </tr>\n",
       "    <tr>\n",
       "      <th>cut_Good</th>\n",
       "      <td>510.857841</td>\n",
       "    </tr>\n",
       "    <tr>\n",
       "      <th>cut_Ideal</th>\n",
       "      <td>767.187994</td>\n",
       "    </tr>\n",
       "    <tr>\n",
       "      <th>cut_Premium</th>\n",
       "      <td>712.658595</td>\n",
       "    </tr>\n",
       "    <tr>\n",
       "      <th>cut_Very Good</th>\n",
       "      <td>657.851844</td>\n",
       "    </tr>\n",
       "    <tr>\n",
       "      <th>color_E</th>\n",
       "      <td>-216.493026</td>\n",
       "    </tr>\n",
       "    <tr>\n",
       "      <th>color_F</th>\n",
       "      <td>-278.613554</td>\n",
       "    </tr>\n",
       "    <tr>\n",
       "      <th>color_G</th>\n",
       "      <td>-498.600792</td>\n",
       "    </tr>\n",
       "    <tr>\n",
       "      <th>color_H</th>\n",
       "      <td>-989.127080</td>\n",
       "    </tr>\n",
       "    <tr>\n",
       "      <th>color_I</th>\n",
       "      <td>-1477.272491</td>\n",
       "    </tr>\n",
       "    <tr>\n",
       "      <th>color_J</th>\n",
       "      <td>-2412.427445</td>\n",
       "    </tr>\n",
       "    <tr>\n",
       "      <th>clarity_IF</th>\n",
       "      <td>5333.083384</td>\n",
       "    </tr>\n",
       "    <tr>\n",
       "      <th>clarity_SI1</th>\n",
       "      <td>3603.891722</td>\n",
       "    </tr>\n",
       "    <tr>\n",
       "      <th>clarity_SI2</th>\n",
       "      <td>2621.997117</td>\n",
       "    </tr>\n",
       "    <tr>\n",
       "      <th>clarity_VS1</th>\n",
       "      <td>4518.976685</td>\n",
       "    </tr>\n",
       "    <tr>\n",
       "      <th>clarity_VS2</th>\n",
       "      <td>4216.384808</td>\n",
       "    </tr>\n",
       "    <tr>\n",
       "      <th>clarity_VVS1</th>\n",
       "      <td>4974.340718</td>\n",
       "    </tr>\n",
       "    <tr>\n",
       "      <th>clarity_VVS2</th>\n",
       "      <td>4913.793022</td>\n",
       "    </tr>\n",
       "  </tbody>\n",
       "</table>\n",
       "</div>"
      ],
      "text/plain": [
       "                коэффициент\n",
       "carat          11300.426555\n",
       "depth            -70.229550\n",
       "table            -29.397841\n",
       "x              -1330.836953\n",
       "y                333.254707\n",
       "z                -44.435121\n",
       "cut_Good         510.857841\n",
       "cut_Ideal        767.187994\n",
       "cut_Premium      712.658595\n",
       "cut_Very Good    657.851844\n",
       "color_E         -216.493026\n",
       "color_F         -278.613554\n",
       "color_G         -498.600792\n",
       "color_H         -989.127080\n",
       "color_I        -1477.272491\n",
       "color_J        -2412.427445\n",
       "clarity_IF      5333.083384\n",
       "clarity_SI1     3603.891722\n",
       "clarity_SI2     2621.997117\n",
       "clarity_VS1     4518.976685\n",
       "clarity_VS2     4216.384808\n",
       "clarity_VVS1    4974.340718\n",
       "clarity_VVS2    4913.793022"
      ]
     },
     "execution_count": 180,
     "metadata": {},
     "output_type": "execute_result"
    }
   ],
   "source": [
    "lasso = Lasso(alpha=0.1, max_iter=10000).fit(X_train,y_train)\n",
    "print(\"Судя по таблице значений, наиболее информативными будут признаки carat, x, clarity, color. Неинформативными оказались table, z, depth.\"\n",
    "     \"\\n\\n1) Depth, как величина, равная 2z / (x + y), оказывается обратно пропорционально двум значимым величинам и прямо пропорциональна z, которая при\"\n",
    "     \" выбранном альфа практически не влияет на итоговый ответ. Получается, что и depth будет малоинформативной величиной.\"\n",
    "     \"\\n\\n2) Вероятно, z оказалась так мало информативной из-за того, что важную роль играет масса бриллианта, а сумма его измерений x+y+z уже становится\"\n",
    "      \" следствием, поэтому, учитывая carat самый информативный признак, то он словно 'забрал на себя' вес коэффициента при z.\"\n",
    "     \"\\n\\n3) Table как 'width of top of diamond relative to widest point (43--95)', возможно, аналогично предыдущему пункту зависит от\"\n",
    "     \"x, y, которые здесь имеют большие веса, потому как похожая на линейно зависимую величину, она была приближена к нулю.\"\n",
    "     \"\\n\\nТаким образом, на мой взгляд, неинформативными оказались линейно зависимые величины, которые при альфа=0.1 Лассо-регрессия постаралась свести к минимуму.\")\n",
    "pd.DataFrame(lasso.coef_, columns=['коэффициент'], index=data_dum.columns)"
   ]
  },
  {
   "cell_type": "markdown",
   "metadata": {},
   "source": [
    "**Задача 3.13 (0.4 балла)** Сделайте предсказания обученной Lasso-регрессии на тестовой выборке и сравните среднеквадратичную ошибку с ошибкой обычной линейной регрессии из задачи 3.7. Какую модель лучше использовать для предсказаний? Приведите возможное объяснение, почему одна модель оказалась лучше другой."
   ]
  },
  {
   "cell_type": "code",
   "execution_count": 184,
   "metadata": {},
   "outputs": [
    {
     "name": "stdout",
     "output_type": "stream",
     "text": [
      "---LinearRegression---\n",
      "На тренировочной:  1295920.7310854401\n",
      "На тестовой:  1267745.1088336587\n",
      "\n",
      "---Lasso-регрессия---\n",
      "На тренировочной:  41453989.70340439\n",
      "На тестовой:  41047074.73129124\n"
     ]
    }
   ],
   "source": [
    "model = LinearRegression().fit(X_real_norm_train, y_train) #повторим  на всякий случай\n",
    "print(\"---LinearRegression---\\nНа тренировочной: \", mean_squared_error(model.predict(X_real_norm_train), y_train))\n",
    "print(\"На тестовой: \", mean_squared_error(model.predict(X_real_norm_test), y_test))\n",
    "\n",
    "print(\"\\n---Lasso-регрессия---\\nНа тренировочной: \", mean_squared_error(lasso.predict(X_real_norm_train), y_train))\n",
    "print(\"На тестовой: \", mean_squared_error(lasso.predict(X_real_norm_test), y_test))"
   ]
  },
  {
   "cell_type": "code",
   "execution_count": 186,
   "metadata": {},
   "outputs": [
    {
     "name": "stdout",
     "output_type": "stream",
     "text": [
      "LinearRegression победила. Возможно, потому что у нас не все переменные демонстрируют линейную зависимость, скорее даже меньше половины, рассматривая таблицу после one-hot кодирования. Простая линейная регрессия строится на модели, где признаки линейно независимые (цвет у нас, например, не зависит от массы, clarity аналогично - а это уже целых 13 переменных), Лассо-регрессия же специльно адаптирована для данных, где наблюдается мультиколлинеарность. Потому наш случай - это скорее обычная линейная регрессия и как следствие, результат с ней на тестовой выборке лучше, чем с Лассо.\n"
     ]
    }
   ],
   "source": [
    "print(\"LinearRegression победила. Возможно, потому что у нас не все переменные демонстрируют линейную зависимость, скорее даже меньше половины, рассматривая \"\n",
    "     \"таблицу после one-hot кодирования. Простая линейная регрессия строится на модели, где признаки линейно независимые (цвет у нас, например,\"\n",
    "      \" не зависит от массы, clarity аналогично - а это уже целых 13 переменных), Лассо-регрессия же специльно \"\n",
    "     \"адаптирована для данных, где наблюдается мультиколлинеарность. Потому наш случай - это скорее обычная линейная регрессия и как следствие,\"\n",
    "     \" результат с ней на тестовой выборке лучше, чем с Лассо.\")"
   ]
  },
  {
   "cell_type": "code",
   "execution_count": null,
   "metadata": {},
   "outputs": [],
   "source": []
  }
 ],
 "metadata": {
  "kernelspec": {
   "display_name": "Python 3",
   "language": "python",
   "name": "python3"
  },
  "language_info": {
   "codemirror_mode": {
    "name": "ipython",
    "version": 3
   },
   "file_extension": ".py",
   "mimetype": "text/x-python",
   "name": "python",
   "nbconvert_exporter": "python",
   "pygments_lexer": "ipython3",
   "version": "3.8.5"
  }
 },
 "nbformat": 4,
 "nbformat_minor": 4
}
